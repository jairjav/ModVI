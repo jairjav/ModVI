{
  "cells": [
    {
      "cell_type": "markdown",
      "metadata": {
        "id": "view-in-github",
        "colab_type": "text"
      },
      "source": [
        "<a href=\"https://colab.research.google.com/github/jairjav/ModVI/blob/main/Copia_de_TareaMod_VI.ipynb\" target=\"_parent\"><img src=\"https://colab.research.google.com/assets/colab-badge.svg\" alt=\"Open In Colab\"/></a>"
      ]
    },
    {
      "cell_type": "markdown",
      "id": "46fdb78b",
      "metadata": {
        "id": "46fdb78b"
      },
      "source": [
        "Jair Joaquin Ahumada Valencia\n",
        "\n",
        "# Tarea Modulo VI ;  "
      ]
    },
    {
      "cell_type": "markdown",
      "id": "c13e4da2",
      "metadata": {
        "id": "c13e4da2"
      },
      "source": [
        "## Adaptar el codigo visto en clase a un dataset de nuestra preferencia"
      ]
    },
    {
      "cell_type": "markdown",
      "id": "e023eae4",
      "metadata": {
        "id": "e023eae4"
      },
      "source": [
        "### Descripcion; La siguiente red neuronal pretende predecir las ganancias de una tienda utilizando variables como ; Descuento, precio (normalizados), ademas de otras variables como ; tipo de envio, pais y producto(se transformaron a variables numericas)."
      ]
    },
    {
      "cell_type": "markdown",
      "id": "cabeb5bf",
      "metadata": {
        "id": "cabeb5bf"
      },
      "source": [
        "### La base de datos se trabajo y limpio en en SQL (se adjuntara el codigo en la entrega de la tarea), despues se pego en un archivo csv y se subio a Github para poder cargarla en Colab.\n",
        "\n",
        "> Añadir blockquote\n",
        "##Explicacion del proceso;\n",
        "\n",
        "1 se eleigio la BD de sales store\n",
        "2 Se cargo a SQL y se decidio eliminar los valores nulos\n",
        "3 se normalizaron los datos que se referian a descuento , ganancia y precio\n",
        "4 Las categorias se transformaron en variables numericas\n",
        "5 Se creo una vista que contiene estos cambios mencionados\n",
        "6 se cargo la consulta a un ccsv\n",
        "7 Se cargo la BD en Github\n",
        "8 Se ejecuto en Colab\n",
        "\n",
        "Se trabajo con el mse ya que estabamos trababjndo con la ganancia\n",
        "\n"
      ]
    },
    {
      "cell_type": "code",
      "execution_count": null,
      "id": "5dcd5862",
      "metadata": {
        "scrolled": true,
        "colab": {
          "base_uri": "https://localhost:8080/"
        },
        "id": "5dcd5862",
        "outputId": "25bc4f52-f837-41f2-eb12-bb27c7011ebc"
      },
      "outputs": [
        {
          "output_type": "stream",
          "name": "stdout",
          "text": [
            "   DescNorm  gananciaNorm  precioNorm  TIPOenvioNumerico  PaisNumerico  \\\n",
            "0  0.961976      0.531117    0.892191                  1             1   \n",
            "1  0.579537      0.823439    0.109757                  1             2   \n",
            "2  0.482660      0.600237    0.315990                  2             3   \n",
            "3  0.576921      0.986448    0.230891                  3             2   \n",
            "4  0.828941      0.971475    0.425356                  2             1   \n",
            "\n",
            "   PorductoNumerico  CategoriaEnvioNumerico  \n",
            "0                 1                       1  \n",
            "1                 2                       1  \n",
            "2                 1                       2  \n",
            "3                 3                       2  \n",
            "4                 2                       2  \n"
          ]
        }
      ],
      "source": [
        "import pandas as pd\n",
        "import numpy as np\n",
        "from tensorflow.keras.models import Sequential\n",
        "from tensorflow.keras.layers import Dense\n",
        "\n",
        "# cargar archivo de mi ruta de github\n",
        "url = 'https://raw.githubusercontent.com/jairjav/tarea_modVI/main/red_neuronal_ventas_ganancia.csv'\n",
        "\n",
        "# pasar la data a un dataframe\n",
        "df = pd.read_csv(url)\n",
        "\n",
        "# print para ver un top 5\n",
        "print(df.head())\n"
      ]
    },
    {
      "cell_type": "code",
      "execution_count": null,
      "id": "65ef5ca6",
      "metadata": {
        "colab": {
          "base_uri": "https://localhost:8080/"
        },
        "id": "65ef5ca6",
        "outputId": "01e0e277-bbdb-4267-e712-481833abb2a9"
      },
      "outputs": [
        {
          "output_type": "stream",
          "name": "stdout",
          "text": [
            "24/24 [==============================] - 0s 2ms/step - loss: 0.0812 - mse: 0.0812\n",
            "mse: 0.08\n"
          ]
        }
      ],
      "source": [
        "X = df[['DescNorm','precioNorm','TIPOenvioNumerico','PaisNumerico','PorductoNumerico']].values\n",
        "y = df['gananciaNorm'].values\n",
        "\n",
        "model=Sequential()\n",
        "model.add(Dense(16,input_dim=5,activation='relu'))\n",
        "model.add(Dense(12,activation='relu'))\n",
        "model.add(Dense(8, activation='relu'))\n",
        "model.add(Dense(1,activation='linear'))\n",
        "\n",
        "model.compile(loss='mean_squared_error',optimizer='adam',metrics=['mse'])\n",
        "#Aqui con intentos realizados a menor epoca nos daba menor mse(no variaba mucho)\n",
        "#con mas epocas se ajustaba mas pero tardaba mas en correo, en 200 lo estime\n",
        "#ideal\n",
        "model.fit(X, y, epochs=200,batch_size=10, verbose=0)\n",
        "\n",
        "loss, mse = model.evaluate(X,y)\n",
        "\n",
        "print('mse: %.2f' % mse)\n",
        "\n",
        "\n"
      ]
    },
    {
      "cell_type": "code",
      "execution_count": null,
      "id": "a65e6a3a",
      "metadata": {
        "id": "a65e6a3a"
      },
      "outputs": [],
      "source": [
        "Resultado;"
      ]
    },
    {
      "cell_type": "markdown",
      "source": [
        "#Resultado;\n",
        "\n",
        "De acuerdo con el error cuadratico medio es de 0.0771, con lo cual consideramos que la predicion de la ganancia es certera respecto a las variables que proporcionamos."
      ],
      "metadata": {
        "id": "rq4oWbPn1Fvo"
      },
      "id": "rq4oWbPn1Fvo"
    },
    {
      "cell_type": "code",
      "execution_count": null,
      "id": "728faf78",
      "metadata": {
        "id": "728faf78"
      },
      "outputs": [],
      "source": []
    }
  ],
  "metadata": {
    "kernelspec": {
      "display_name": "Python 3 (ipykernel)",
      "language": "python",
      "name": "python3"
    },
    "language_info": {
      "codemirror_mode": {
        "name": "ipython",
        "version": 3
      },
      "file_extension": ".py",
      "mimetype": "text/x-python",
      "name": "python",
      "nbconvert_exporter": "python",
      "pygments_lexer": "ipython3",
      "version": "3.11.4"
    },
    "colab": {
      "provenance": [],
      "include_colab_link": true
    }
  },
  "nbformat": 4,
  "nbformat_minor": 5
}